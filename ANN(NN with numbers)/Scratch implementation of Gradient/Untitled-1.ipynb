{
 "cells": [
  {
   "cell_type": "markdown",
   "metadata": {},
   "source": [
    "# Library and Data import"
   ]
  },
  {
   "cell_type": "code",
   "execution_count": 52,
   "metadata": {},
   "outputs": [],
   "source": [
    "import numpy as np\n",
    "import pandas as pd\n",
    "import tensorflow as tf\n",
    "from tensorflow import keras\n",
    "from sklearn import preprocessing\n",
    "import random\n",
    "from matplotlib import pyplot as plt\n",
    "%matplotlib inline"
   ]
  },
  {
   "cell_type": "code",
   "execution_count": 53,
   "metadata": {},
   "outputs": [],
   "source": [
    "ds = pd.read_csv('homeprices_banglore.csv')\n",
    "\n",
    "sx = preprocessing.MinMaxScaler()\n",
    "sy = preprocessing.MinMaxScaler()\n",
    "\n",
    "X_scaled = sx.fit_transform(ds.drop('price', axis='columns'))\n",
    "Y_scaled = sy.fit_transform(ds['price'].values.reshape(ds.shape[0],1))"
   ]
  },
  {
   "cell_type": "code",
   "execution_count": 54,
   "metadata": {},
   "outputs": [
    {
     "name": "stdout",
     "output_type": "stream",
     "text": [
      "[[0.08827586 0.25      ]\n",
      " [0.62068966 0.75      ]\n",
      " [0.22068966 0.5       ]\n",
      " [0.24862069 0.5       ]\n",
      " [0.13793103 0.25      ]\n",
      " [0.12758621 0.25      ]\n",
      " [0.6662069  0.75      ]\n",
      " [0.86206897 0.75      ]\n",
      " [0.17586207 0.5       ]\n",
      " [1.         1.        ]\n",
      " [0.34482759 0.5       ]\n",
      " [0.68448276 0.75      ]\n",
      " [0.06896552 0.25      ]\n",
      " [0.10344828 0.25      ]\n",
      " [0.5        0.5       ]\n",
      " [0.12931034 0.25      ]\n",
      " [0.13103448 0.5       ]\n",
      " [0.25517241 0.5       ]\n",
      " [0.67931034 0.5       ]\n",
      " [0.         0.        ]]\n",
      "[[0.05237037]\n",
      " [0.65185185]\n",
      " [0.22222222]\n",
      " [0.31851852]\n",
      " [0.14074074]\n",
      " [0.04444444]\n",
      " [0.76296296]\n",
      " [0.91111111]\n",
      " [0.13333333]\n",
      " [1.        ]\n",
      " [0.37037037]\n",
      " [0.8       ]\n",
      " [0.04444444]\n",
      " [0.05925926]\n",
      " [0.51111111]\n",
      " [0.07407407]\n",
      " [0.11851852]\n",
      " [0.20740741]\n",
      " [0.51851852]\n",
      " [0.        ]]\n"
     ]
    }
   ],
   "source": [
    "print(X_scaled)\n",
    "print(Y_scaled)"
   ]
  },
  {
   "cell_type": "code",
   "execution_count": 55,
   "metadata": {},
   "outputs": [
    {
     "data": {
      "text/plain": [
       "array([0.05237037, 0.65185185, 0.22222222, 0.31851852, 0.14074074,\n",
       "       0.04444444, 0.76296296, 0.91111111, 0.13333333, 1.        ,\n",
       "       0.37037037, 0.8       , 0.04444444, 0.05925926, 0.51111111,\n",
       "       0.07407407, 0.11851852, 0.20740741, 0.51851852, 0.        ])"
      ]
     },
     "execution_count": 55,
     "metadata": {},
     "output_type": "execute_result"
    }
   ],
   "source": [
    "Y_scaled.reshape(20,)"
   ]
  },
  {
   "cell_type": "code",
   "execution_count": 56,
   "metadata": {},
   "outputs": [
    {
     "data": {
      "text/plain": [
       "(20, 1)"
      ]
     },
     "execution_count": 56,
     "metadata": {},
     "output_type": "execute_result"
    }
   ],
   "source": [
    "\n",
    "Y_scaled.reshape(Y_scaled.shape[0],)\n",
    "Y_scaled.shape\n"
   ]
  },
  {
   "cell_type": "markdown",
   "metadata": {},
   "source": [
    "# Batch Gradient Descent"
   ]
  },
  {
   "cell_type": "code",
   "execution_count": 57,
   "metadata": {},
   "outputs": [
    {
     "data": {
      "text/plain": [
       "(array([0.84091889, 0.30663612]), -0.09493108809204089, 0.003014872311587659)"
      ]
     },
     "execution_count": 57,
     "metadata": {},
     "output_type": "execute_result"
    }
   ],
   "source": [
    "def batch_gradient_descent(x, y_true, epochs, learning_rates = .01):\n",
    "    \n",
    "    number_of_features = x.shape[1]\n",
    "    total_sample = x.shape[0]\n",
    "    b = 0\n",
    "    w = np.ones(shape=(number_of_features))\n",
    "    \n",
    "    cost_list = []\n",
    "    epoch_list = []\n",
    "    \n",
    "    for i in range(epochs):\n",
    "        y_pred = np.dot(w, x.T) + b\n",
    "        \n",
    "        w_grad = -(2/total_sample)*np.dot(x.T, y_true - y_pred)\n",
    "        b_grad = -(2/total_sample)*np.sum(y_true - y_pred)\n",
    "        \n",
    "        w = w - learning_rates * w_grad\n",
    "        b = b - learning_rates * b_grad\n",
    "        \n",
    "        cost = np.mean(np.square(y_true - y_pred))\n",
    "        \n",
    "        if(i%10==0):\n",
    "            cost_list.append(cost)\n",
    "            epoch_list.append(i)\n",
    "        \n",
    "        \n",
    "    return w, b, cost, epoch_list, cost_list\n",
    "\n",
    "w, b, cost, epoch_list, cost_list = batch_gradient_descent(X_scaled, Y_scaled.reshape(Y_scaled.shape[0],), 10000)\n",
    "w, b, cost"
   ]
  },
  {
   "cell_type": "markdown",
   "metadata": {},
   "source": [
    "# Prediction based on the batch gradient descent"
   ]
  },
  {
   "cell_type": "code",
   "execution_count": 58,
   "metadata": {},
   "outputs": [
    {
     "name": "stdout",
     "output_type": "stream",
     "text": [
      "(2,)\n",
      "()\n",
      "(20, 2)\n"
     ]
    }
   ],
   "source": [
    "print(w.shape)\n",
    "print(b.shape)\n",
    "print(X_scaled.shape)"
   ]
  },
  {
   "cell_type": "code",
   "execution_count": 59,
   "metadata": {},
   "outputs": [
    {
     "name": "stderr",
     "output_type": "stream",
     "text": [
      "/Library/Frameworks/Python.framework/Versions/3.12/lib/python3.12/site-packages/sklearn/base.py:493: UserWarning: X does not have valid feature names, but MinMaxScaler was fitted with feature names\n",
      "  warnings.warn(\n"
     ]
    },
    {
     "data": {
      "text/plain": [
       "120.69441413246746"
      ]
     },
     "execution_count": 59,
     "metadata": {},
     "output_type": "execute_result"
    }
   ],
   "source": [
    "def predict(area, bedrooms, w, b):\n",
    "    X_scaled = sx.transform([[area, bedrooms]])[0]\n",
    "    y_pred = w[0]*X_scaled[0] + w[1]*X_scaled[1] + b\n",
    "    return sy.inverse_transform([[y_pred]])[0][0]\n",
    "\n",
    "predict(2600, 4, w, b)"
   ]
  },
  {
   "cell_type": "markdown",
   "metadata": {},
   "source": [
    "# Stochastic Gradient Descent"
   ]
  },
  {
   "cell_type": "code",
   "execution_count": 60,
   "metadata": {},
   "outputs": [
    {
     "data": {
      "text/plain": [
       "(1,)"
      ]
     },
     "execution_count": 60,
     "metadata": {},
     "output_type": "execute_result"
    }
   ],
   "source": [
    "Y_scaled[0].shape"
   ]
  },
  {
   "cell_type": "code",
   "execution_count": 61,
   "metadata": {},
   "outputs": [
    {
     "data": {
      "text/plain": [
       "(array([0.70751971, 0.67561307]), -0.22878138639235712, 0.006942504538450713)"
      ]
     },
     "execution_count": 61,
     "metadata": {},
     "output_type": "execute_result"
    }
   ],
   "source": [
    "import random\n",
    "def Stochastic_Gradiet_Descent(x, y, epochs, learning_rate = .01):\n",
    "    No_features = x.shape[1]\n",
    "    w = np.ones(shape=(No_features))\n",
    "    b = 0\n",
    "    total_samples = x.shape[0]\n",
    "    \n",
    "    cost = 0\n",
    "    cost_list = []\n",
    "    epoch_list = []\n",
    "    \n",
    "    for i in range(epochs):\n",
    "        index = random.randint(0, total_samples-1)\n",
    "        X = x[index]\n",
    "        Y = y[index]\n",
    "        \n",
    "        y_pred = np.dot(w, X.T) + b\n",
    "        \n",
    "        w_grad = -(2/total_samples)*np.dot(X.T, Y - y_pred)\n",
    "        b_grad = -(2/total_samples)*(Y - y_pred)\n",
    "        \n",
    "        w = w - learning_rate*w_grad\n",
    "        b = b - learning_rate*b_grad\n",
    "        \n",
    "        cost = np.square(Y - y_pred)\n",
    "        \n",
    "        if i%100 == 0:\n",
    "            cost_list.append(cost)\n",
    "            epoch_list.append(i)\n",
    "            \n",
    "            \n",
    "    return w, b, cost, cost_list, epoch_list\n",
    "        \n",
    "w_grd, b_grd, cost, cost_list_g, epoch_list_g = Stochastic_Gradiet_Descent(X_scaled, Y_scaled.reshape(Y_scaled.shape[0],), 10000)\n",
    "w_grd, b_grd, cost"
   ]
  },
  {
   "cell_type": "markdown",
   "metadata": {},
   "source": [
    "# Predicting using this model"
   ]
  },
  {
   "cell_type": "code",
   "execution_count": 62,
   "metadata": {},
   "outputs": [
    {
     "name": "stderr",
     "output_type": "stream",
     "text": [
      "/Library/Frameworks/Python.framework/Versions/3.12/lib/python3.12/site-packages/sklearn/base.py:493: UserWarning: X does not have valid feature names, but MinMaxScaler was fitted with feature names\n",
      "  warnings.warn(\n"
     ]
    },
    {
     "data": {
      "text/plain": [
       "128.80560880818172"
      ]
     },
     "execution_count": 62,
     "metadata": {},
     "output_type": "execute_result"
    }
   ],
   "source": [
    "predict(2600, 4, w_grd, b_grd)"
   ]
  },
  {
   "cell_type": "markdown",
   "metadata": {},
   "source": [
    "# Lets build plots to compare them"
   ]
  },
  {
   "cell_type": "code",
   "execution_count": 63,
   "metadata": {},
   "outputs": [
    {
     "data": {
      "text/plain": [
       "[<matplotlib.lines.Line2D at 0x13ecd7110>]"
      ]
     },
     "execution_count": 63,
     "metadata": {},
     "output_type": "execute_result"
    },
    {
     "data": {
      "image/png": "[encoded data removed]",
      "text/plain": [
       "<Figure size 640x480 with 1 Axes>"
      ]
     },
     "metadata": {},
     "output_type": "display_data"
    }
   ],
   "source": [
    "plt.xlabel(\"epoch\")\n",
    "plt.ylabel(\"cost\")\n",
    "plt.plot(epoch_list,cost_list)\n",
    "\n",
    "plt.xlabel(\"epoch\")\n",
    "plt.ylabel(\"cost\")\n",
    "plt.plot(epoch_list_g,cost_list_g)"
   ]
  }
 ],
 "metadata": {
  "kernelspec": {
   "display_name": "Python 3",
   "language": "python",
   "name": "python3"
  },
  "language_info": {
   "codemirror_mode": {
    "name": "ipython",
    "version": 3
   },
   "file_extension": ".py",
   "mimetype": "text/x-python",
   "name": "python",
   "nbconvert_exporter": "python",
   "pygments_lexer": "ipython3",
   "version": "3.12.4"
  }
 },
 "nbformat": 4,
 "nbformat_minor": 2
}
